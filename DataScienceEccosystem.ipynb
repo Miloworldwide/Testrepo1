{"cell_type": "markdown",
 "source": " # Data Science Tools and Ecostsyem",
"metadata" {} 
},
{"cell_type": "markdown",
 "source": " # In this notebook,Data science tools and Econsystem are summarized.",
"metadata" {} 
},
{"cell_type": "markdown",
 "source": " Some of the popular languages that Data Scientists use are : \n1.Python\n2.R.\n3. SQL.",
"metadata" {} 
},
{"cell_type": "markdown",
 "source": " Some of the common used libararies used by Data Scientists include:\n1.Tensorflow\n2.NumPy\n3.Scipy.",
"metadata" {
"Tags": []
} 
},
