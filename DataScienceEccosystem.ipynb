{"cell_type": "markdown",
 "source": " # Data Science Tools and Ecostsyem",
"metadata" {} 
}
{"cell_type": "markdown",
 "source": " # In this notebook,Data science tools and Econsystem are summarized.",
"metadata" {} 
}
