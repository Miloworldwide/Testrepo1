{
  "metadata": {
    "language_info": {
      "codemirror_mode": {
        "name": "python",
        "version": 3
      },
      "file_extension": ".py",
      "mimetype": "text/x-python",
      "name": "python",
      "nbconvert_exporter": "python",
      "pygments_lexer": "ipython3",
      "version": "3.8"
    },
    "kernelspec": {
      "name": "python",
      "display_name": "Pyolite",
      "language": "python"
    }
  },
  "nbformat_minor": 4,
  "nbformat": 4,
  "cells": [
{
"cell_type": "markdown",
 "source": " # Data Science Tools and Ecostsyem",
"metadata" {} 
},
{"cell_type": "markdown",
 "source": " # In this notebook,Data science tools and Econsystem are summarized.",
"metadata" {} 
},
{"cell_type": "markdown",
 "source": " Some of the popular languages that Data Scientists use are : \n1.Python\n2.R.\n3. SQL.",
"metadata" {} 
},
{"cell_type": "markdown",
 "source": " Some of the common used libararies used by Data Scientists include:\n1.Tensorflow\n2.NumPy\n3.Scipy.",
"metadata" {
"Tags": []
} 
},
