{"cell_type": "markdown",
 "source": " # Data Science Tools and Ecostsyem",
"metadata" {} 
},
{"cell_type": "markdown",
 "source": " # In this notebook,Data science tools and Econsystem are summarized.",
"metadata" {} 
},
{"cell_type": "markdown",
 "source": " Some of the popular languages that Data Scientists use are : \n1.Python\n2.R.\n3. SQL.",
"metadata" {} 
},
{"cell_type": "markdown",
 "source": " # In this notebook,Data science tools and Econsystem are summarized.",
"metadata" {
"Tags": []
} 
},
